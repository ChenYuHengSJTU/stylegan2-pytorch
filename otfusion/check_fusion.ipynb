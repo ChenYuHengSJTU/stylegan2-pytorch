{
 "cells": [
  {
   "cell_type": "code",
   "execution_count": 2,
   "metadata": {},
   "source": [
    "import torch\n",
    "import torch.nn as nn"
   ],
   "outputs": []
  },
  {
   "cell_type": "code",
   "execution_count": 3,
   "metadata": {},
   "source": [
    "models_path = ['../stylegan2-pytorch/checkpoint/799999.pt', '../stylegan2-pytorch/checkpoint/779999.pt']"
   ],
   "outputs": []
  },
  {
   "cell_type": "code",
   "execution_count": 4,
   "metadata": {},
   "source": [
    "import sys\n",
    "sys.path.append('/mnt/d/SJTU/Phd/Code/stylegan2-pytorch')\n",
    "import os\n",
    "os.chdir('/mnt/d/SJTU/Phd/Code/stylegan2-pytorch/')\n",
    "!pwd\n",
    "import model as gan"
   ],
   "outputs": []
  },
  {
   "cell_type": "code",
   "execution_count": 4,
   "metadata": {},
   "source": [
    "Gs = ['/mnt/d/SJTU/Phd/Code/stylegan2-pytorch/checkpoint/779999.pt', '/mnt/d/SJTU/Phd/Code/stylegan2-pytorch/checkpoint/799999_1.pt']"
   ],
   "outputs": []
  },
  {
   "cell_type": "code",
   "execution_count": 5,
   "metadata": {},
   "source": [
    "G1 = torch.load(Gs[0])\n",
    "G2 = torch.load(Gs[1])"
   ],
   "outputs": []
  },
  {
   "cell_type": "code",
   "execution_count": 10,
   "metadata": {},
   "source": [
    "G1['args']"
   ],
   "outputs": []
  },
  {
   "cell_type": "code",
   "execution_count": 6,
   "metadata": {},
   "source": [
    "G1.keys()"
   ],
   "outputs": []
  },
  {
   "cell_type": "code",
   "execution_count": 7,
   "metadata": {},
   "source": [
    "G1['g_ema']"
   ],
   "outputs": []
  },
  {
   "cell_type": "code",
   "execution_count": 1,
   "metadata": {},
   "source": [
    "gan1 = gan.Generator(size=G1['args'].size, style_dim=G1['args'].latent, n_mlp=G1['args'].n_mlp)\n",
    "gan2 = gan.Generator(size=G2['args'].size, style_dim=G2['args'].latent, n_mlp=G2['args'].n_mlp)"
   ],
   "outputs": []
  },
  {
   "cell_type": "code",
   "execution_count": 22,
   "metadata": {},
   "source": [
    "sys.path.append('/mnt/d/SJTU/Phd/Code/stylegan2-pytorch/otfusion')\n",
    "import my_fusion\n",
    "my_fusion.get_model_structure(gan1)"
   ],
   "outputs": []
  },
  {
   "cell_type": "code",
   "execution_count": 24,
   "metadata": {},
   "source": [
    "gan1.named_modules"
   ],
   "outputs": []
  },
  {
   "cell_type": "code",
   "execution_count": 27,
   "metadata": {},
   "source": [
    "gan1.input.input.shape"
   ],
   "outputs": []
  },
  {
   "cell_type": "code",
   "execution_count": null,
   "metadata": {},
   "source": [],
   "outputs": []
  }
 ],
 "metadata": {
  "kernelspec": {
   "display_name": "Python 3",
   "language": "python",
   "name": "python3"
  },
  "language_info": {
   "codemirror_mode": {
    "name": "ipython",
    "version": 3
   },
   "file_extension": ".py",
   "mimetype": "text/x-python",
   "name": "python",
   "nbconvert_exporter": "python",
   "pygments_lexer": "ipython3",
   "version": "3.10.14"
  }
 },
 "nbformat": 4,
 "nbformat_minor": 2
}
