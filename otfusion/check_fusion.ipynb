{
 "cells": [
  {
   "cell_type": "code",
   "execution_count": 3,
   "metadata": {},
   "outputs": [
    {
     "ename": "ModuleNotFoundError",
     "evalue": "No module named 'torch'",
     "output_type": "error",
     "traceback": [
      "\u001b[0;31m---------------------------------------------------------------------------\u001b[0m",
      "\u001b[0;31mModuleNotFoundError\u001b[0m                       Traceback (most recent call last)",
      "Cell \u001b[0;32mIn[3], line 1\u001b[0m\n\u001b[0;32m----> 1\u001b[0m \u001b[38;5;28;01mimport\u001b[39;00m \u001b[38;5;21;01mtorch\u001b[39;00m\n\u001b[1;32m      2\u001b[0m \u001b[38;5;28;01mimport\u001b[39;00m \u001b[38;5;21;01mtorch\u001b[39;00m\u001b[38;5;21;01m.\u001b[39;00m\u001b[38;5;21;01mnn\u001b[39;00m \u001b[38;5;28;01mas\u001b[39;00m \u001b[38;5;21;01mnn\u001b[39;00m\n",
      "\u001b[0;31mModuleNotFoundError\u001b[0m: No module named 'torch'"
     ]
    }
   ],
   "source": [
    "import torch\n",
    "import torch.nn as nn"
   ]
  },
  {
   "cell_type": "code",
   "execution_count": 4,
   "metadata": {},
   "outputs": [],
   "source": [
    "models_path = ['../stylegan2-pytorch/checkpoint/799999.pt', '../stylegan2-pytorch/checkpoint/779999.pt']"
   ]
  },
  {
   "cell_type": "code",
   "execution_count": 4,
   "metadata": {},
   "outputs": [
    {
     "name": "stdout",
     "output_type": "stream",
     "text": [
      "/mnt/d/SJTU\n"
     ]
    }
   ],
   "source": [
    "import sys\n",
    "sys.path.append('/mnt/d/SJTU/Phd/Code/stylegan2-pytorch')\n",
    "import os\n",
    "os.chdir('/mnt/d/SJTU/Phd/Code/stylegan2-pytorch/')\n",
    "!pwd\n",
    "import model as gan"
   ]
  },
  {
   "cell_type": "code",
   "execution_count": 5,
   "metadata": {},
   "outputs": [],
   "source": [
    "Gs = ['/mnt/d/SJTU/Phd/Code/stylegan2-pytorch/checkpoint/779999.pt', '/mnt/d/SJTU/Phd/Code/stylegan2-pytorch/checkpoint/799999_1.pt']"
   ]
  },
  {
   "cell_type": "code",
   "execution_count": 16,
   "metadata": {},
   "outputs": [
    {
     "name": "stderr",
     "output_type": "stream",
     "text": [
      "/tmp/ipykernel_29045/2507622032.py:1: FutureWarning: You are using `torch.load` with `weights_only=False` (the current default value), which uses the default pickle module implicitly. It is possible to construct malicious pickle data which will execute arbitrary code during unpickling (See https://github.com/pytorch/pytorch/blob/main/SECURITY.md#untrusted-models for more details). In a future release, the default value for `weights_only` will be flipped to `True`. This limits the functions that could be executed during unpickling. Arbitrary objects will no longer be allowed to be loaded via this mode unless they are explicitly allowlisted by the user via `torch.serialization.add_safe_globals`. We recommend you start setting `weights_only=True` for any use case where you don't have full control of the loaded file. Please open an issue on GitHub for any issues related to this experimental feature.\n",
      "  G1 = torch.load(Gs[0])\n",
      "/tmp/ipykernel_29045/2507622032.py:2: FutureWarning: You are using `torch.load` with `weights_only=False` (the current default value), which uses the default pickle module implicitly. It is possible to construct malicious pickle data which will execute arbitrary code during unpickling (See https://github.com/pytorch/pytorch/blob/main/SECURITY.md#untrusted-models for more details). In a future release, the default value for `weights_only` will be flipped to `True`. This limits the functions that could be executed during unpickling. Arbitrary objects will no longer be allowed to be loaded via this mode unless they are explicitly allowlisted by the user via `torch.serialization.add_safe_globals`. We recommend you start setting `weights_only=True` for any use case where you don't have full control of the loaded file. Please open an issue on GitHub for any issues related to this experimental feature.\n",
      "  G2 = torch.load(Gs[1])\n"
     ]
    }
   ],
   "source": [
    "G1 = torch.load(Gs[0])\n",
    "G2 = torch.load(Gs[1])"
   ]
  },
  {
   "cell_type": "code",
   "execution_count": 10,
   "metadata": {},
   "outputs": [
    {
     "data": {
      "text/plain": [
       "Namespace(ada_every=256, ada_length=500000, ada_target=0.6, arch='stylegan2', augment=False, augment_p=0, batch=4, channel_multiplier=2, ckpt='/home/chenyuheng/stylegan2-pytorch/checkpoint/ffhq512_b1_800000_227_cont_223/439999.pt', d_reg_every=16, distributed=True, g_reg_every=4, iter=800000, latent=512, local_rank=0, lr=0.002, mixing=0.9, n_mlp=8, n_sample=64, name='ffhq512_b4_800000_227_cont_223', path='/home_new/chenyuheng/stylegan2-pytorch/dataset/ffhq_512', path_batch_shrink=2, path_regularize=2, r1=10, size=512, start_iter=439999, wandb=False)"
      ]
     },
     "execution_count": 10,
     "metadata": {},
     "output_type": "execute_result"
    }
   ],
   "source": [
    "G1['args']"
   ]
  },
  {
   "cell_type": "code",
   "execution_count": 17,
   "metadata": {},
   "outputs": [],
   "source": [
    "gan1 = gan.Generator(size=G1['args'].size, style_dim=G1['args'].latent, n_mlp=G1['args'].n_mlp)\n",
    "gan2 = gan.Generator(size=G2['args'].size, style_dim=G2['args'].latent, n_mlp=G2['args'].n_mlp)"
   ]
  },
  {
   "cell_type": "code",
   "execution_count": 22,
   "metadata": {},
   "outputs": [
    {
     "ename": "TraceError",
     "evalue": "symbolically traced variables cannot be used as inputs to control flow",
     "output_type": "error",
     "traceback": [
      "\u001b[0;31m---------------------------------------------------------------------------\u001b[0m",
      "\u001b[0;31mTraceError\u001b[0m                                Traceback (most recent call last)",
      "Cell \u001b[0;32mIn[22], line 3\u001b[0m\n\u001b[1;32m      1\u001b[0m sys\u001b[38;5;241m.\u001b[39mpath\u001b[38;5;241m.\u001b[39mappend(\u001b[38;5;124m'\u001b[39m\u001b[38;5;124m/mnt/d/SJTU/Phd/Code/stylegan2-pytorch/otfusion\u001b[39m\u001b[38;5;124m'\u001b[39m)\n\u001b[1;32m      2\u001b[0m \u001b[38;5;28;01mimport\u001b[39;00m \u001b[38;5;21;01mmy_fusion\u001b[39;00m\n\u001b[0;32m----> 3\u001b[0m \u001b[43mmy_fusion\u001b[49m\u001b[38;5;241;43m.\u001b[39;49m\u001b[43mget_model_structure\u001b[49m\u001b[43m(\u001b[49m\u001b[43mgan1\u001b[49m\u001b[43m)\u001b[49m\n",
      "File \u001b[0;32m/mnt/d/SJTU/Phd/Code/stylegan2-pytorch/otfusion/my_fusion.py:488\u001b[0m, in \u001b[0;36mget_model_structure\u001b[0;34m(model)\u001b[0m\n\u001b[1;32m    487\u001b[0m \u001b[38;5;28;01mdef\u001b[39;00m \u001b[38;5;21mget_model_structure\u001b[39m(model):\n\u001b[0;32m--> 488\u001b[0m     gm \u001b[38;5;241m=\u001b[39m \u001b[43mtorch\u001b[49m\u001b[38;5;241;43m.\u001b[39;49m\u001b[43mfx\u001b[49m\u001b[38;5;241;43m.\u001b[39;49m\u001b[43msymbolic_trace\u001b[49m\u001b[43m(\u001b[49m\u001b[43mmodel\u001b[49m\u001b[43m)\u001b[49m\n\u001b[1;32m    489\u001b[0m     graph \u001b[38;5;241m=\u001b[39m gm\u001b[38;5;241m.\u001b[39mgraph\n\u001b[1;32m    490\u001b[0m     node_list \u001b[38;5;241m=\u001b[39m graph\u001b[38;5;241m.\u001b[39mnodes\n",
      "File \u001b[0;32m~/anaconda3/envs/vae/lib/python3.8/site-packages/torch/fx/_symbolic_trace.py:1222\u001b[0m, in \u001b[0;36msymbolic_trace\u001b[0;34m(root, concrete_args)\u001b[0m\n\u001b[1;32m   1174\u001b[0m \u001b[38;5;250m\u001b[39m\u001b[38;5;124;03m\"\"\"\u001b[39;00m\n\u001b[1;32m   1175\u001b[0m \u001b[38;5;124;03mSymbolic tracing API\u001b[39;00m\n\u001b[1;32m   1176\u001b[0m \n\u001b[0;32m   (...)\u001b[0m\n\u001b[1;32m   1219\u001b[0m \u001b[38;5;124;03m    GraphModule: a Module created from the recorded operations from ``root``.\u001b[39;00m\n\u001b[1;32m   1220\u001b[0m \u001b[38;5;124;03m\"\"\"\u001b[39;00m\n\u001b[1;32m   1221\u001b[0m tracer \u001b[38;5;241m=\u001b[39m Tracer()\n\u001b[0;32m-> 1222\u001b[0m graph \u001b[38;5;241m=\u001b[39m \u001b[43mtracer\u001b[49m\u001b[38;5;241;43m.\u001b[39;49m\u001b[43mtrace\u001b[49m\u001b[43m(\u001b[49m\u001b[43mroot\u001b[49m\u001b[43m,\u001b[49m\u001b[43m \u001b[49m\u001b[43mconcrete_args\u001b[49m\u001b[43m)\u001b[49m\n\u001b[1;32m   1223\u001b[0m name \u001b[38;5;241m=\u001b[39m (\n\u001b[1;32m   1224\u001b[0m     root\u001b[38;5;241m.\u001b[39m\u001b[38;5;18m__class__\u001b[39m\u001b[38;5;241m.\u001b[39m\u001b[38;5;18m__name__\u001b[39m \u001b[38;5;28;01mif\u001b[39;00m \u001b[38;5;28misinstance\u001b[39m(root, torch\u001b[38;5;241m.\u001b[39mnn\u001b[38;5;241m.\u001b[39mModule) \u001b[38;5;28;01melse\u001b[39;00m root\u001b[38;5;241m.\u001b[39m\u001b[38;5;18m__name__\u001b[39m\n\u001b[1;32m   1225\u001b[0m )\n\u001b[1;32m   1226\u001b[0m \u001b[38;5;28;01mreturn\u001b[39;00m _make_graph_module(tracer\u001b[38;5;241m.\u001b[39mroot, graph, name)\n",
      "File \u001b[0;32m~/anaconda3/envs/vae/lib/python3.8/site-packages/torch/fx/_symbolic_trace.py:822\u001b[0m, in \u001b[0;36mTracer.trace\u001b[0;34m(self, root, concrete_args)\u001b[0m\n\u001b[1;32m    815\u001b[0m         \u001b[38;5;28;01mfor\u001b[39;00m module \u001b[38;5;129;01min\u001b[39;00m \u001b[38;5;28mself\u001b[39m\u001b[38;5;241m.\u001b[39m_autowrap_search:\n\u001b[1;32m    816\u001b[0m             _autowrap_check(\n\u001b[1;32m    817\u001b[0m                 patcher, module\u001b[38;5;241m.\u001b[39m\u001b[38;5;18m__dict__\u001b[39m, \u001b[38;5;28mself\u001b[39m\u001b[38;5;241m.\u001b[39m_autowrap_function_ids\n\u001b[1;32m    818\u001b[0m             )\n\u001b[1;32m    819\u001b[0m         \u001b[38;5;28mself\u001b[39m\u001b[38;5;241m.\u001b[39mcreate_node(\n\u001b[1;32m    820\u001b[0m             \u001b[38;5;124m\"\u001b[39m\u001b[38;5;124moutput\u001b[39m\u001b[38;5;124m\"\u001b[39m,\n\u001b[1;32m    821\u001b[0m             \u001b[38;5;124m\"\u001b[39m\u001b[38;5;124moutput\u001b[39m\u001b[38;5;124m\"\u001b[39m,\n\u001b[0;32m--> 822\u001b[0m             (\u001b[38;5;28mself\u001b[39m\u001b[38;5;241m.\u001b[39mcreate_arg(\u001b[43mfn\u001b[49m\u001b[43m(\u001b[49m\u001b[38;5;241;43m*\u001b[39;49m\u001b[43margs\u001b[49m\u001b[43m)\u001b[49m),),\n\u001b[1;32m    823\u001b[0m             {},\n\u001b[1;32m    824\u001b[0m             type_expr\u001b[38;5;241m=\u001b[39mfn\u001b[38;5;241m.\u001b[39m\u001b[38;5;18m__annotations__\u001b[39m\u001b[38;5;241m.\u001b[39mget(\u001b[38;5;124m\"\u001b[39m\u001b[38;5;124mreturn\u001b[39m\u001b[38;5;124m\"\u001b[39m, \u001b[38;5;28;01mNone\u001b[39;00m),\n\u001b[1;32m    825\u001b[0m         )\n\u001b[1;32m    827\u001b[0m     \u001b[38;5;28mself\u001b[39m\u001b[38;5;241m.\u001b[39msubmodule_paths \u001b[38;5;241m=\u001b[39m \u001b[38;5;28;01mNone\u001b[39;00m\n\u001b[1;32m    828\u001b[0m \u001b[38;5;28;01mfinally\u001b[39;00m:\n",
      "File \u001b[0;32m/mnt/d/SJTU/Phd/Code/stylegan2-pytorch/model.py:521\u001b[0m, in \u001b[0;36mGenerator.forward\u001b[0;34m(self, styles, return_latents, inject_index, truncation, truncation_latent, input_is_latent, noise, randomize_noise)\u001b[0m\n\u001b[1;32m    510\u001b[0m \u001b[38;5;28;01mdef\u001b[39;00m \u001b[38;5;21mforward\u001b[39m(\n\u001b[1;32m    511\u001b[0m     \u001b[38;5;28mself\u001b[39m,\n\u001b[1;32m    512\u001b[0m     styles,\n\u001b[0;32m   (...)\u001b[0m\n\u001b[1;32m    519\u001b[0m     randomize_noise\u001b[38;5;241m=\u001b[39m\u001b[38;5;28;01mTrue\u001b[39;00m,\n\u001b[1;32m    520\u001b[0m ):\n\u001b[0;32m--> 521\u001b[0m     \u001b[38;5;28;01mif\u001b[39;00m \u001b[38;5;129;01mnot\u001b[39;00m input_is_latent:\n\u001b[1;32m    522\u001b[0m         styles \u001b[38;5;241m=\u001b[39m [\u001b[38;5;28mself\u001b[39m\u001b[38;5;241m.\u001b[39mstyle(s) \u001b[38;5;28;01mfor\u001b[39;00m s \u001b[38;5;129;01min\u001b[39;00m styles]\n\u001b[1;32m    524\u001b[0m     \u001b[38;5;28;01mif\u001b[39;00m noise \u001b[38;5;129;01mis\u001b[39;00m \u001b[38;5;28;01mNone\u001b[39;00m:\n",
      "File \u001b[0;32m~/anaconda3/envs/vae/lib/python3.8/site-packages/torch/fx/proxy.py:447\u001b[0m, in \u001b[0;36mProxy.__bool__\u001b[0;34m(self)\u001b[0m\n\u001b[1;32m    444\u001b[0m             \u001b[38;5;28mself\u001b[39m\u001b[38;5;241m.\u001b[39mtracer\u001b[38;5;241m.\u001b[39mcreate_proxy(\u001b[38;5;124m'\u001b[39m\u001b[38;5;124mcall_function\u001b[39m\u001b[38;5;124m'\u001b[39m, assert_fn, (\u001b[38;5;28mself\u001b[39m,), {})\n\u001b[1;32m    445\u001b[0m             \u001b[38;5;28;01mreturn\u001b[39;00m \u001b[38;5;28;01mTrue\u001b[39;00m\n\u001b[0;32m--> 447\u001b[0m \u001b[38;5;28;01mreturn\u001b[39;00m \u001b[38;5;28;43mself\u001b[39;49m\u001b[38;5;241;43m.\u001b[39;49m\u001b[43mtracer\u001b[49m\u001b[38;5;241;43m.\u001b[39;49m\u001b[43mto_bool\u001b[49m\u001b[43m(\u001b[49m\u001b[38;5;28;43mself\u001b[39;49m\u001b[43m)\u001b[49m\n",
      "File \u001b[0;32m~/anaconda3/envs/vae/lib/python3.8/site-packages/torch/fx/proxy.py:307\u001b[0m, in \u001b[0;36mTracerBase.to_bool\u001b[0;34m(self, obj)\u001b[0m\n\u001b[1;32m    300\u001b[0m \u001b[38;5;129m@compatibility\u001b[39m(is_backward_compatible\u001b[38;5;241m=\u001b[39m\u001b[38;5;28;01mTrue\u001b[39;00m)\n\u001b[1;32m    301\u001b[0m \u001b[38;5;28;01mdef\u001b[39;00m \u001b[38;5;21mto_bool\u001b[39m(\u001b[38;5;28mself\u001b[39m, obj: \u001b[38;5;124m'\u001b[39m\u001b[38;5;124mProxy\u001b[39m\u001b[38;5;124m'\u001b[39m) \u001b[38;5;241m-\u001b[39m\u001b[38;5;241m>\u001b[39m \u001b[38;5;28mbool\u001b[39m:\n\u001b[1;32m    302\u001b[0m \u001b[38;5;250m    \u001b[39m\u001b[38;5;124;03m\"\"\"Called when a proxy object is being converted to a boolean, such as\u001b[39;00m\n\u001b[1;32m    303\u001b[0m \u001b[38;5;124;03m    when used in control flow.  Normally we don't know what to do because\u001b[39;00m\n\u001b[1;32m    304\u001b[0m \u001b[38;5;124;03m    we don't know the value of the proxy, but a custom tracer can attach more\u001b[39;00m\n\u001b[1;32m    305\u001b[0m \u001b[38;5;124;03m    information to the graph node using create_node and can choose to return a value.\u001b[39;00m\n\u001b[1;32m    306\u001b[0m \u001b[38;5;124;03m    \"\"\"\u001b[39;00m\n\u001b[0;32m--> 307\u001b[0m     \u001b[38;5;28;01mraise\u001b[39;00m TraceError(\u001b[38;5;124m'\u001b[39m\u001b[38;5;124msymbolically traced variables cannot be used as inputs to control flow\u001b[39m\u001b[38;5;124m'\u001b[39m)\n",
      "\u001b[0;31mTraceError\u001b[0m: symbolically traced variables cannot be used as inputs to control flow"
     ]
    }
   ],
   "source": [
    "sys.path.append('/mnt/d/SJTU/Phd/Code/stylegan2-pytorch/otfusion')\n",
    "import my_fusion\n",
    "my_fusion.get_model_structure(gan1)"
   ]
  },
  {
   "cell_type": "code",
   "execution_count": 24,
   "metadata": {},
   "outputs": [
    {
     "data": {
      "text/plain": [
       "<bound method Module.named_modules of Generator(\n",
       "  (style): Sequential(\n",
       "    (0): PixelNorm()\n",
       "    (1): EqualLinear(512, 512)\n",
       "    (2): EqualLinear(512, 512)\n",
       "    (3): EqualLinear(512, 512)\n",
       "    (4): EqualLinear(512, 512)\n",
       "    (5): EqualLinear(512, 512)\n",
       "    (6): EqualLinear(512, 512)\n",
       "    (7): EqualLinear(512, 512)\n",
       "    (8): EqualLinear(512, 512)\n",
       "  )\n",
       "  (input): ConstantInput()\n",
       "  (conv1): StyledConv(\n",
       "    (conv): ModulatedConv2d(512, 512, 3, upsample=False, downsample=False)\n",
       "    (noise): NoiseInjection()\n",
       "    (activate): FusedLeakyReLU()\n",
       "  )\n",
       "  (to_rgb1): ToRGB(\n",
       "    (conv): ModulatedConv2d(512, 3, 1, upsample=False, downsample=False)\n",
       "  )\n",
       "  (convs): ModuleList(\n",
       "    (0): StyledConv(\n",
       "      (conv): ModulatedConv2d(512, 512, 3, upsample=True, downsample=False)\n",
       "      (noise): NoiseInjection()\n",
       "      (activate): FusedLeakyReLU()\n",
       "    )\n",
       "    (1): StyledConv(\n",
       "      (conv): ModulatedConv2d(512, 512, 3, upsample=False, downsample=False)\n",
       "      (noise): NoiseInjection()\n",
       "      (activate): FusedLeakyReLU()\n",
       "    )\n",
       "    (2): StyledConv(\n",
       "      (conv): ModulatedConv2d(512, 512, 3, upsample=True, downsample=False)\n",
       "      (noise): NoiseInjection()\n",
       "      (activate): FusedLeakyReLU()\n",
       "    )\n",
       "    (3): StyledConv(\n",
       "      (conv): ModulatedConv2d(512, 512, 3, upsample=False, downsample=False)\n",
       "      (noise): NoiseInjection()\n",
       "      (activate): FusedLeakyReLU()\n",
       "    )\n",
       "    (4): StyledConv(\n",
       "      (conv): ModulatedConv2d(512, 512, 3, upsample=True, downsample=False)\n",
       "      (noise): NoiseInjection()\n",
       "      (activate): FusedLeakyReLU()\n",
       "    )\n",
       "    (5): StyledConv(\n",
       "      (conv): ModulatedConv2d(512, 512, 3, upsample=False, downsample=False)\n",
       "      (noise): NoiseInjection()\n",
       "      (activate): FusedLeakyReLU()\n",
       "    )\n",
       "    (6): StyledConv(\n",
       "      (conv): ModulatedConv2d(512, 512, 3, upsample=True, downsample=False)\n",
       "      (noise): NoiseInjection()\n",
       "      (activate): FusedLeakyReLU()\n",
       "    )\n",
       "    (7): StyledConv(\n",
       "      (conv): ModulatedConv2d(512, 512, 3, upsample=False, downsample=False)\n",
       "      (noise): NoiseInjection()\n",
       "      (activate): FusedLeakyReLU()\n",
       "    )\n",
       "    (8): StyledConv(\n",
       "      (conv): ModulatedConv2d(512, 256, 3, upsample=True, downsample=False)\n",
       "      (noise): NoiseInjection()\n",
       "      (activate): FusedLeakyReLU()\n",
       "    )\n",
       "    (9): StyledConv(\n",
       "      (conv): ModulatedConv2d(256, 256, 3, upsample=False, downsample=False)\n",
       "      (noise): NoiseInjection()\n",
       "      (activate): FusedLeakyReLU()\n",
       "    )\n",
       "    (10): StyledConv(\n",
       "      (conv): ModulatedConv2d(256, 128, 3, upsample=True, downsample=False)\n",
       "      (noise): NoiseInjection()\n",
       "      (activate): FusedLeakyReLU()\n",
       "    )\n",
       "    (11): StyledConv(\n",
       "      (conv): ModulatedConv2d(128, 128, 3, upsample=False, downsample=False)\n",
       "      (noise): NoiseInjection()\n",
       "      (activate): FusedLeakyReLU()\n",
       "    )\n",
       "    (12): StyledConv(\n",
       "      (conv): ModulatedConv2d(128, 64, 3, upsample=True, downsample=False)\n",
       "      (noise): NoiseInjection()\n",
       "      (activate): FusedLeakyReLU()\n",
       "    )\n",
       "    (13): StyledConv(\n",
       "      (conv): ModulatedConv2d(64, 64, 3, upsample=False, downsample=False)\n",
       "      (noise): NoiseInjection()\n",
       "      (activate): FusedLeakyReLU()\n",
       "    )\n",
       "  )\n",
       "  (upsamples): ModuleList()\n",
       "  (to_rgbs): ModuleList(\n",
       "    (0-3): 4 x ToRGB(\n",
       "      (upsample): Upsample()\n",
       "      (conv): ModulatedConv2d(512, 3, 1, upsample=False, downsample=False)\n",
       "    )\n",
       "    (4): ToRGB(\n",
       "      (upsample): Upsample()\n",
       "      (conv): ModulatedConv2d(256, 3, 1, upsample=False, downsample=False)\n",
       "    )\n",
       "    (5): ToRGB(\n",
       "      (upsample): Upsample()\n",
       "      (conv): ModulatedConv2d(128, 3, 1, upsample=False, downsample=False)\n",
       "    )\n",
       "    (6): ToRGB(\n",
       "      (upsample): Upsample()\n",
       "      (conv): ModulatedConv2d(64, 3, 1, upsample=False, downsample=False)\n",
       "    )\n",
       "  )\n",
       "  (noises): Module()\n",
       ")>"
      ]
     },
     "execution_count": 24,
     "metadata": {},
     "output_type": "execute_result"
    }
   ],
   "source": [
    "gan1.named_modules"
   ]
  },
  {
   "cell_type": "code",
   "execution_count": 27,
   "metadata": {},
   "outputs": [
    {
     "data": {
      "text/plain": [
       "torch.Size([1, 512, 4, 4])"
      ]
     },
     "execution_count": 27,
     "metadata": {},
     "output_type": "execute_result"
    }
   ],
   "source": [
    "gan1.input.input.shape"
   ]
  },
  {
   "cell_type": "code",
   "execution_count": null,
   "metadata": {},
   "outputs": [],
   "source": []
  }
 ],
 "metadata": {
  "kernelspec": {
   "display_name": "vae",
   "language": "python",
   "name": "python3"
  },
  "language_info": {
   "codemirror_mode": {
    "name": "ipython",
    "version": 3
   },
   "file_extension": ".py",
   "mimetype": "text/x-python",
   "name": "python",
   "nbconvert_exporter": "python",
   "pygments_lexer": "ipython3",
   "version": "3.8.19"
  }
 },
 "nbformat": 4,
 "nbformat_minor": 2
}
